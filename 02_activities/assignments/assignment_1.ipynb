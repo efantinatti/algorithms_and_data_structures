{
 "cells": [
  {
   "cell_type": "markdown",
   "metadata": {},
   "source": [
    "# Coding Problems\n",
    "\n",
    "## Objective\n",
    "\n",
    "This assignment aims to demonstrate how to study a data structures or algorithms question in depth to prepare for an industry coding interview. Leetcode is a popular coding practice site that many use to practice for technical interviews. Like behavioral interviews, it's important to practice and keep your skills sharp.\n",
    "\n",
    "## Group Size\n",
    "\n",
    "Please complete this individually.\n",
    "\n",
    "## Part 1:\n",
    "\n",
    "_*You will be assigned one of three problems based of your first name. Execute the code below, and that will tell you your assigned problem. Include the output as part of your submission (do not clear the output). The problems are based-off problems from Leetcode.*_\n"
   ]
  },
  {
   "cell_type": "code",
   "execution_count": 23,
   "metadata": {},
   "outputs": [
    {
     "name": "stdout",
     "output_type": "stream",
     "text": [
      "1\n"
     ]
    }
   ],
   "source": [
    "print((hash('Ernani') % 3) + 1)\n"
   ]
  },
  {
   "cell_type": "markdown",
   "metadata": {},
   "source": [
    "<details>\n",
    "  <summary>Question 1</summary>\n",
    "\n",
    "  # Question One: Check Duplicates in Tree\n",
    "\n",
    "  Given the `root` of a binary tree, check whether it is contains a duplicate value. If a duplicate exists, return the duplicate value. If there are multiple duplicates, return the one with the closest distance to the root. If no duplicate exists, return -1.\n",
    "\n",
    "  ## Examples\n",
    "\n",
    "  ### Example 1\n",
    "\n",
    "  ![](./images/q1_ex1.png)\n",
    "\n",
    "  Input: `root = [1, 2, 2, 3, 5, 6, 7]` *What traversal method is this?*\n",
    "\n",
    "  Output: 2\n",
    "\n",
    "  ### Example 2\n",
    "\n",
    "  ![](./images/q1_ex2.png)\n",
    "\n",
    "  Input: `root = [1, 10, 2, 3, 10, 12, 12]`\n",
    "\n",
    "  Output: 10\n",
    "\n",
    "  ### Example 3\n",
    "\n",
    "  ![](./images/q1_ex3.png)\n",
    "\n",
    "  Input: `root = [10, 9, 8, 7]`\n",
    "\n",
    "  Output: -1\n",
    "\n",
    "</details>\n",
    "\n",
    "<BR><BR><BR><BR>\n",
    "\n",
    "### My answer to question 1, example 1:\n",
    "    \n",
    "* #### What traversal method is this?\n",
    "    \n",
    "The example 1's figure appears to be the `level-order traversal` (or breadth-first traversal) of the binary tree.\n",
    "    \n",
    "In a level-order traversal, nodes are visited or read level by level from left to right. Given the binary tree in the example 1's image and the input `[1, 2, 2, 3, 5, 6, 7]`, we see the tree is constructed level by level as follows:\n",
    "\n",
    "- **Level 0**: The root node is `1`.\n",
    "- **Level 1**: The children of `1` are `2` and `2`.\n",
    "- **Level 2**: The children of the left `2` are `3` and `5`, and the children of the right `2` are `6` and `7`.\n",
    "\n",
    "And this points out to the context of the level-order traversal method.\n",
    "\n",
    "##### Visualization:\n",
    "- **Level 0**: `[1]`\n",
    "- **Level 1**: `[2, 2]`\n",
    "- **Level 2**: `[3, 5, 6, 7]`\n",
    "\n",
    "Finally, the given input list `[1, 2, 2, 3, 5, 6, 7]` signifies the level-order traversal of the tree.\n",
    "\n",
    "\n",
    "#### Starter Code for Question 1"
   ]
  },
  {
   "cell_type": "code",
   "execution_count": 50,
   "metadata": {},
   "outputs": [],
   "source": [
    "from collections import deque\n",
    "\n",
    "# Definition for a binary tree node.\n",
    "class TreeNode:\n",
    "    def __init__(self, val = 0, left = None, right = None):\n",
    "        self.val = val\n",
    "        self.left = left\n",
    "        self.right = right\n",
    "\n",
    "def is_duplicate(root: TreeNode) -> int:\n",
    "    if not root:\n",
    "        return -1\n",
    "    \n",
    "    seen = set()\n",
    "    queue = deque([root])\n",
    "    \n",
    "    while queue:\n",
    "        node = queue.popleft()\n",
    "        \n",
    "        if node.val in seen:\n",
    "            return node.val\n",
    "        seen.add(node.val)\n",
    "        \n",
    "        if node.left:\n",
    "            queue.append(node.left)\n",
    "        if node.right:\n",
    "            queue.append(node.right)\n",
    "    \n",
    "    return -1 #If duplicates are not found\n"
   ]
  },
  {
   "cell_type": "code",
   "execution_count": 51,
   "metadata": {},
   "outputs": [
    {
     "name": "stdout",
     "output_type": "stream",
     "text": [
      "2\n",
      "10\n",
      "-1\n"
     ]
    }
   ],
   "source": [
    "#Test cases\n",
    "#Example 1: root = [1, 2, 2, 3, 5, 6, 7]\n",
    "root1 = TreeNode(1)\n",
    "root1.left = TreeNode(2)\n",
    "root1.right = TreeNode(2)\n",
    "root1.left.left = TreeNode(3)\n",
    "root1.left.right = TreeNode(5)\n",
    "root1.right.left = TreeNode(6)\n",
    "root1.right.right = TreeNode(7)\n",
    "\n",
    "#Example 2: root = [1, 10, 2, 3, 10, 12, 12]\n",
    "root2 = TreeNode(1)\n",
    "root2.left = TreeNode(10)\n",
    "root2.right = TreeNode(2)\n",
    "root2.left.left = TreeNode(3)\n",
    "root2.left.right = TreeNode(10)\n",
    "root2.right.left = TreeNode(12)\n",
    "root2.right.right = TreeNode(12)\n",
    "\n",
    "#Example 3: root = [10, 9, 7, 8]\n",
    "root3 = TreeNode(10)\n",
    "root3.left = TreeNode(9)\n",
    "root3.right = TreeNode(7)\n",
    "root3.left.left = TreeNode(8)\n",
    "\n",
    "print(is_duplicate(root1))\n",
    "print(is_duplicate(root2))\n",
    "print(is_duplicate(root3))\n"
   ]
  },
  {
   "cell_type": "markdown",
   "metadata": {},
   "source": [
    "<details>\n",
    "  <summary>Question 2</summary>\n",
    "\n",
    "  # Question Two: Path to Leaves\n",
    "\n",
    "  Given the `root` of a binary tree, return all root to leaf paths in any order.\n",
    "\n",
    "  ## Examples\n",
    "\n",
    "  ### Example 1\n",
    "\n",
    "  ![](./images/q1_ex1.png)\n",
    "\n",
    "  Input: `root = [1, 2, 2, 3, 5, 6, 7]` *What traversal method is this?*\n",
    "\n",
    "  Output: [[1, 2, 3], [1, 2, 5], [1, 2, 6], [1, 2, 7]]\n",
    "\n",
    "  ### Example 2\n",
    "\n",
    "  ![](./images/q1_ex3.png)\n",
    "\n",
    "  Input: `root = [10, 9, 7, 8]`\n",
    "\n",
    "  Output: [[10, 7], [10, 9, 8]]\n",
    "\n",
    "</details>\n",
    "\n",
    "#### My answer to question 2, example 1:\n",
    "\n",
    "  * ##### This code defines a TreeNode class to represent nodes in a binary tree and implements a path_to_leaves function using depth-first search (DFS) to find all root-to-leaf paths. The DFS helper function is used to traverse the tree and record paths. The final output matches the expected result.\n",
    "\n",
    "#### Starter Code for Question 2"
   ]
  },
  {
   "cell_type": "code",
   "execution_count": 48,
   "metadata": {},
   "outputs": [],
   "source": [
    "# Definition for a binary tree node.\n",
    "class TreeNode:\n",
    "    def __init__(self, val = 0, left = None, right = None):\n",
    "        self.val = val\n",
    "        self.left = left\n",
    "        self.right = right\n",
    "        \n",
    "def path_to_leaves(root: TreeNode):\n",
    "    def dfs(node, path, paths):\n",
    "        if not node:\n",
    "            return\n",
    "        path.append(node.val) #Add current node to the path\n",
    "        if not node.left and not node.right: #If it's a leaf node, add the path to paths\n",
    "            paths.append(list(path))\n",
    "        else:\n",
    "            if node.left: #Continue the DFS on left and right children\n",
    "                dfs(node.left, path, paths)\n",
    "            if node.right:\n",
    "                dfs(node.right, path, paths)\n",
    "        path.pop() #Remove the current node from the path to backtrack\n",
    "    \n",
    "    paths = []\n",
    "    dfs(root, [], paths)\n",
    "    return paths\n",
    "\n"
   ]
  },
  {
   "cell_type": "code",
   "execution_count": 49,
   "metadata": {},
   "outputs": [
    {
     "name": "stdout",
     "output_type": "stream",
     "text": [
      "[[1, 2, 3], [1, 2, 5], [1, 2, 6], [1, 2, 7]]\n",
      "[[10, 9, 8], [10, 7]]\n"
     ]
    }
   ],
   "source": [
    "#Test cases\n",
    "#Example 1: root = [1, 2, 2, 3, 5, 6, 7]\n",
    "root1 = TreeNode(1)\n",
    "root1.left = TreeNode(2)\n",
    "root1.right = TreeNode(2)\n",
    "root1.left.left = TreeNode(3)\n",
    "root1.left.right = TreeNode(5)\n",
    "root1.right.left = TreeNode(6)\n",
    "root1.right.right = TreeNode(7)\n",
    "\n",
    "#Example 2: root = [10, 9, 7, 8]\n",
    "root2 = TreeNode(10)\n",
    "root2.left = TreeNode(9)\n",
    "root2.right = TreeNode(7)\n",
    "root2.left.left = TreeNode(8)\n",
    "\n",
    "print(path_to_leaves(root1))\n",
    "print(path_to_leaves(root2))\n"
   ]
  },
  {
   "cell_type": "markdown",
   "metadata": {},
   "source": [
    "<details>\n",
    "  <summary>Question 3</summary>\n",
    "\n",
    "  # Question Three: Missing Number in Range\n",
    " \n",
    "  You are given a list containing `n` integers in the range `[0, n]`. Return a list of numbers that are missing from the range `[0, n]` of the array. If there is no missing number, return -1. Note, all the integers in the list may not be unique.\n",
    "  \n",
    "  ## Examples\n",
    "\n",
    "  ### Example 1\n",
    "\n",
    "  Input: `lst = [0, 2]`\n",
    "\n",
    "  Output: [1]\n",
    "\n",
    "  ### Example 2\n",
    "\n",
    "  Input: `lst = [5, 0, 1]`\n",
    "\n",
    "  Output: [2, 3, 4]\n",
    "\n",
    "  ### Example 3\n",
    "\n",
    "  Input: `lst = [6, 8, 2, 3, 5, 7, 0, 1, 10]`\n",
    "\n",
    "  Output: [4, 9]\n",
    "\n",
    "</details>\n",
    "\n",
    "#### Starter Code for Question 3\n"
   ]
  },
  {
   "cell_type": "code",
   "execution_count": 56,
   "metadata": {},
   "outputs": [],
   "source": [
    "from typing import List, Union\n",
    "\n",
    "def missing_num(nums: List[int]) -> Union[List[int], int]:\n",
    "    n = max(len(nums), max(nums, default=-1))  #Ensures the range includes the highest number in nums\n",
    "    expected_range = set(range(n + 1))\n",
    "    present_set = set(nums)\n",
    "    \n",
    "    missing_numbers = sorted(list(expected_range - present_set))\n",
    "    \n",
    "    if not missing_numbers:\n",
    "        return -1\n",
    "    return missing_numbers\n",
    "    "
   ]
  },
  {
   "cell_type": "code",
   "execution_count": 57,
   "metadata": {},
   "outputs": [
    {
     "name": "stdout",
     "output_type": "stream",
     "text": [
      "[1]\n",
      "[2, 3, 4]\n",
      "[4, 9]\n"
     ]
    }
   ],
   "source": [
    "# Test cases\n",
    "# Example 1: nums = [0, 2]\n",
    "print(missing_num([0, 2]))\n",
    "\n",
    "# Example 2: nums = [5, 0, 1]\n",
    "print(missing_num([5, 0, 1]))\n",
    "\n",
    "# Example 3: nums = [6, 8, 2, 3, 5, 7, 0, 1, 10]\n",
    "print(missing_num([6, 8, 2, 3, 5, 7, 0, 1, 10]))\n"
   ]
  },
  {
   "cell_type": "markdown",
   "metadata": {},
   "source": [
    "\n",
    "## Part 2:\n",
    "\n",
    "-   Paraphrase the problem in your own words\n"
   ]
  },
  {
   "cell_type": "code",
   "execution_count": null,
   "metadata": {},
   "outputs": [],
   "source": [
    "# Your answer here\n",
    "#The main idea is to identify (handling) the all missing numbers from the given range, working on duplicates whule lengtghs of the input list varies. If numbers are missing, then it returns -1.\n"
   ]
  },
  {
   "cell_type": "markdown",
   "metadata": {},
   "source": [
    "- In this .ipynb file, there are examples that illustrate how the code should work (the examples provided above). Create 2 new examples for the question you have been assigned, that demonstrate you understand the problem. For question 1 and 2, you don't need to create the tree demonstration, just the input and output.\n"
   ]
  },
  {
   "cell_type": "code",
   "execution_count": 59,
   "metadata": {},
   "outputs": [
    {
     "name": "stdout",
     "output_type": "stream",
     "text": [
      "2\n",
      "10\n"
     ]
    }
   ],
   "source": [
    "# Your answer here\n",
    "\n",
    "#Input for both examples\n",
    "root1 = TreeNode(1)\n",
    "root1.left = TreeNode(2, TreeNode(3), TreeNode(5))\n",
    "root1.right = TreeNode(2, TreeNode(6), TreeNode(7))\n",
    "\n",
    "root2 = TreeNode(1)\n",
    "root2.left = TreeNode(10, TreeNode(3), TreeNode(10))\n",
    "root2.right = TreeNode(2, TreeNode(12), TreeNode(12))\n",
    "\n",
    "#Retults\n",
    "print(is_duplicate(root1))\n",
    "print(is_duplicate(root2))\n"
   ]
  },
  {
   "cell_type": "markdown",
   "metadata": {},
   "source": [
    "\n",
    "-   Code the solution to your assigned problem in Python (code chunk). Try to find the best time and space complexity solution!\n"
   ]
  },
  {
   "cell_type": "code",
   "execution_count": 60,
   "metadata": {},
   "outputs": [],
   "source": [
    "# Your answer here\n",
    "\n",
    "class TreeNode(object):\n",
    "    def __init__(self, val=0, left=None, right=None):\n",
    "        self.val = val\n",
    "        self.left = left\n",
    "        self.right = right\n",
    "\n",
    "def is_duplicate(root: TreeNode) -> int:\n",
    "    if not root:\n",
    "        return -1\n",
    "    \n",
    "    seen = set()\n",
    "    queue = deque([root])\n",
    "    \n",
    "    while queue:\n",
    "        node = queue.popleft()\n",
    "        \n",
    "        if node.val in seen:\n",
    "            return node.val\n",
    "        seen.add(node.val)\n",
    "        \n",
    "        if node.left:\n",
    "            queue.append(node.left)\n",
    "        if node.right:\n",
    "            queue.append(node.right)\n",
    "    \n",
    "    return -1\n"
   ]
  },
  {
   "cell_type": "code",
   "execution_count": 61,
   "metadata": {},
   "outputs": [
    {
     "name": "stdout",
     "output_type": "stream",
     "text": [
      "2\n",
      "-1\n"
     ]
    }
   ],
   "source": [
    "#Test cases\n",
    "#New Example 1: root = [1, 2, 3, 4, 2]\n",
    "root1 = TreeNode(1)\n",
    "root1.left = TreeNode(2)\n",
    "root1.right = TreeNode(3)\n",
    "root1.left.left = TreeNode(4)\n",
    "root1.left.right = TreeNode(2)\n",
    "\n",
    "#New Example 2: root = [1, 2, 3, 4, 5, 6, 7]\n",
    "root2 = TreeNode(1)\n",
    "root2.left = TreeNode(2)\n",
    "root2.right = TreeNode(3)\n",
    "root2.left.left = TreeNode(4)\n",
    "root2.left.right = TreeNode(5)\n",
    "root2.right.left = TreeNode(6)\n",
    "root2.right.right = TreeNode(7)\n",
    "\n",
    "print(is_duplicate(root1))  # Output: 2\n",
    "print(is_duplicate(root2))  # Output: -1\n"
   ]
  },
  {
   "cell_type": "markdown",
   "metadata": {},
   "source": [
    "\n",
    "-   Explain why your solution works\n"
   ]
  },
  {
   "cell_type": "code",
   "execution_count": null,
   "metadata": {},
   "outputs": [],
   "source": [
    "# Your answer here\n",
    "My solution works because it uses BFS, i.e., queuing to a level-order transversal of the tree. It also maintains a set to keep values that are encountered. Transversing the tree I can find values seen in the set returning the values found as the first duplicate (closes to the root) and if there isn't any duplicates, it will return -1.\n"
   ]
  },
  {
   "cell_type": "markdown",
   "metadata": {},
   "source": [
    "\n",
    "-   Explain the problem’s time and space complexity\n"
   ]
  },
  {
   "cell_type": "code",
   "execution_count": null,
   "metadata": {},
   "outputs": [],
   "source": [
    "# Your answer here\n",
    "\n",
    "For time complexity it is O(N), where N is the number of nodes in the tree since it visits each node exactly once and for space complexity it is also O(N), due to the recursion stack and the paths list.\n"
   ]
  },
  {
   "cell_type": "markdown",
   "metadata": {},
   "source": [
    "\n",
    "-   Explain the thinking to an alternative solution (no coding required, but a classmate reading this should be able to code it up based off your text)\n"
   ]
  },
  {
   "cell_type": "code",
   "execution_count": null,
   "metadata": {},
   "outputs": [],
   "source": [
    "# Your answer here\n",
    "\n",
    "Check Duplicates in Tree (Based on question 1)\n",
    "\n",
    "Alternative Solution is using Depth-First Search (DFS)\n",
    "\n",
    "Instead of using Breadth-First Search (BFS), we can use Depth-First Search (DFS) to find the closest duplicate value to the root.\n",
    "\n",
    "Main approach:\n",
    "\n",
    ". Initialize a Set: Start with an empty set to keep track of the values we have encountered as we traverse the tree.\n",
    ". DFS Traversal: Use a stack (or recurtion) to perform DFS on the tree. Start with the root node.\n",
    ". Check for Duplicates: As you visit each node, check if its value is already in the set. If it is, return that value immediately, as it is the first duplicate encountered. If it isn’t, add the value to the set.\n",
    ". Traverse Children: Continue the DFS traversal by pushing the left and right children of the current node onto the stack (or by calling the recursive function).\n",
    ". No Duplicates Found: If the traversal completes without finding any duplicates, return -1.\n",
    "\n",
    "With this approach you find the closest duplicate by the order of the DFS traversal.\n",
    "\n",
    "Path to Leaves (Based on question 2)\n",
    "\n",
    "Alternative Solution is using Breadth-First Search (BFS)\n",
    "\n",
    "Instead of using DFS, you can use BFS to find all root-to-leaf paths.\n",
    "\n",
    "Main approach:\n",
    "\n",
    ". Initialize a Queue: Start with a queue that stores pairs of the current node and the path taken to reach that node.\n",
    ". BFS Traversal: Begin the traversal from the root node. The initial path will be just the root node’s value.\n",
    ". Process Nodes: For each node, do the following:. If the node is a leaf (i.e., it has no left or right children), add the path to the list of paths. If the node has a left child, add the left child and the updated path to the queue. If the node has a right child, add the right child and the updated path to the queue.\n",
    ". Collect Paths: Continue the BFS traversal until the queue is empty. By then, all paths from the root to the leaf nodes will have been collected.\n",
    "\n"
   ]
  },
  {
   "cell_type": "markdown",
   "metadata": {},
   "source": [
    "## Evaluation Criteria\n",
    "\n",
    "-   Problem is accurately stated\n",
    "\n",
    "-   Two examples are correct and easily understandable\n",
    "\n",
    "-   Correctness, time, and space complexity of the coding solution\n",
    "\n",
    "-   Clarity in explaining why the solution works, its time and space complexity\n",
    "\n",
    "-   Clarity in the proposal to the alternative solution"
   ]
  },
  {
   "cell_type": "markdown",
   "metadata": {},
   "source": [
    "## Submission Information\n",
    "\n",
    "🚨 **Please review our [Assignment Submission Guide](https://github.com/UofT-DSI/onboarding/blob/main/onboarding_documents/submissions.md)** 🚨 for detailed instructions on how to format, branch, and submit your work. Following these guidelines is crucial for your submissions to be evaluated correctly.\n",
    "\n",
    "### Submission Parameters:\n",
    "* Submission Due Date: `HH:MM AM/PM - DD/MM/YYYY`\n",
    "* The branch name for your repo should be: `assignment-1`\n",
    "* What to submit for this assignment:\n",
    "    * This Jupyter Notebook (assignment_1.ipynb) should be populated and should be the only change in your pull request.\n",
    "* What the pull request link should look like for this assignment: `https://github.com/<your_github_username>/algorithms_and_data_structures/pull/<pr_id>`\n",
    "    * Open a private window in your browser. Copy and paste the link to your pull request into the address bar. Make sure you can see your pull request properly. This helps the technical facilitator and learning support staff review your submission easily.\n",
    "\n",
    "Checklist:\n",
    "- [X] Create a branch called `assignment-1`.\n",
    "- [X] Ensure that the repository is public.\n",
    "- [X] Review [the PR description guidelines](https://github.com/UofT-DSI/onboarding/blob/main/onboarding_documents/submissions.md#guidelines-for-pull-request-descriptions) and adhere to them.\n",
    "- [X] Verify that the link is accessible in a private browser window.\n",
    "\n",
    "If you encounter any difficulties or have questions, please don't hesitate to reach out to our team via our Slack at `#cohort-3-help`. Our Technical Facilitators and Learning Support staff are here to help you navigate any challenges."
   ]
  }
 ],
 "metadata": {
  "kernelspec": {
   "display_name": "Python 3",
   "language": "python",
   "name": "python3"
  },
  "language_info": {
   "codemirror_mode": {
    "name": "ipython",
    "version": 3
   },
   "file_extension": ".py",
   "mimetype": "text/x-python",
   "name": "python",
   "nbconvert_exporter": "python",
   "pygments_lexer": "ipython3",
   "version": "3.9.19"
  }
 },
 "nbformat": 4,
 "nbformat_minor": 2
}
