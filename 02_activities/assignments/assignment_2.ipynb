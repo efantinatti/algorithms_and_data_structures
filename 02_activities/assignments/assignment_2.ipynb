{
 "cells": [
  {
   "cell_type": "markdown",
   "metadata": {},
   "source": [
    "# Practice Interview\n",
    "\n",
    "## Objective\n",
    "\n",
    "_*The partner assignment aims to provide participants with the opportunity to practice coding in an interview context. You will analyze your partner's Assignment 1. Moreover, code reviews are common practice in a software development team. This assignment should give you a taste of the code review process.*_\n",
    "\n",
    "## Group Size\n",
    "\n",
    "Each group should have 2 people. You will be assigned a partner\n",
    "\n",
    "## Part 1:\n",
    "\n",
    "You and your partner must share each other's Assignment 1 submission."
   ]
  },
  {
   "cell_type": "markdown",
   "metadata": {},
   "source": [
    "\n",
    "## Part 2:\n",
    "\n",
    "Create a Jupyter Notebook, create 6 of the following headings, and complete the following for your partner's assignment 1:\n",
    "\n",
    "-   Paraphrase the problem in your own words.\n"
   ]
  },
  {
   "cell_type": "code",
   "execution_count": 1,
   "metadata": {},
   "outputs": [],
   "source": [
    "# Your answer here\n",
    "\n",
    "# My partner's assignment-1 github commit link 'https://github.com/GianneW/algorithms_and_data_structures/pull/1/commits' where \\\n",
    "# the her commit hash is '562a16af7ee5f50ac74c7858a6fc5202e8688605', here henceforth denominated as Her / her / Hers / hers.\n",
    "\n",
    "# From the commit review perspective we can perceive the two following issues:\n",
    "# 1 - Different python version (possibly from a different environment) was used on her code when running it for the last \\\n",
    "# time prior to commit it.\n",
    "# 2 - She forgot to put her firstname (Wei) in the first step which would choose give the result '2' instead of '1' to \\\n",
    "# follow up with in the subsequent tasks.\n",
    "\n",
    "# Following up with was made there so far, her Python function in the 'Starter Code for Question 3' is designed to find \\\n",
    "# the missing numbers in a given list of integers numbers.\n"
   ]
  },
  {
   "cell_type": "markdown",
   "metadata": {},
   "source": [
    "\n",
    "-   Create 1 new example that demonstrates you understand the problem. Trace/walkthrough 1 example that your partner made and explain it.\n"
   ]
  },
  {
   "cell_type": "code",
   "execution_count": 2,
   "metadata": {},
   "outputs": [
    {
     "data": {
      "text/plain": [
       "[2, 3, 4]"
      ]
     },
     "execution_count": 2,
     "metadata": {},
     "output_type": "execute_result"
    }
   ],
   "source": [
    "# Your answer here\n",
    "\n",
    "# My NEW example:\n",
    "list_of_numbers = [5,0,1]\n",
    "\n",
    "def missing_numbers(list_of_numbers) -> list:\n",
    "    n = max(list_of_numbers)\n",
    "    n_list = list(range(n + 1))\n",
    "    output_list = [item for item in n_list if item not in list_of_numbers] # Here I use list comprehention as a one-liner.\n",
    "    \n",
    "    if not output_list:\n",
    "        return -1\n",
    "    \n",
    "    return output_list\n",
    "\n",
    "missing_numbers(list_of_numbers) # Executing the funtion the the same imput of hers.\n",
    "\n",
    "# Here through the list of numbers, this function builds a new complete list of integers from zero to maximum number \\\n",
    "# inclusively (n + 1) and then through list comprehention it picks the missing values with the `not in` test condition.\n"
   ]
  },
  {
   "cell_type": "markdown",
   "metadata": {},
   "source": [
    "\n",
    "-   Copy the solution your partner wrote. \n"
   ]
  },
  {
   "cell_type": "code",
   "execution_count": 9,
   "metadata": {},
   "outputs": [
    {
     "data": {
      "text/plain": [
       "[2, 3, 4]"
      ]
     },
     "execution_count": 9,
     "metadata": {},
     "output_type": "execute_result"
    }
   ],
   "source": [
    "# Your answer here\n",
    "\n",
    "# Her soluton:\n",
    "def missing_num(nums) -> int: #nums is a list\n",
    "  # TODO\n",
    "  n_list = []\n",
    "  n = max(nums)\n",
    "  for i in range(n):\n",
    "    n_list.append(i)\n",
    "\n",
    "  output_list = []\n",
    "  for item in n_list:\n",
    "    if item not in nums:\n",
    "      output_list.append(item)\n",
    "  \n",
    "  if output_list == []:\n",
    "    return -1\n",
    "      \n",
    "  return output_list\n",
    "  \n",
    "missing_num(list_of_numbers)\n"
   ]
  },
  {
   "cell_type": "markdown",
   "metadata": {},
   "source": [
    "\n",
    "-   Explain why their solution works in your own words.\n"
   ]
  },
  {
   "cell_type": "code",
   "execution_count": 4,
   "metadata": {},
   "outputs": [],
   "source": [
    "# Your answer here\n",
    "\n",
    "# Her solution works because her function appends a new list of integers from the range of zero to the mmaximum \\\n",
    "# number of the input list for the function and then her output list will be appended with a negative logic of found \\\n",
    "# numbers, i.e., the ones that are not in the list of the input list.\n"
   ]
  },
  {
   "cell_type": "markdown",
   "metadata": {},
   "source": [
    "\n",
    "-   Explain the problem’s time and space complexity in your own words.\n"
   ]
  },
  {
   "cell_type": "code",
   "execution_count": 5,
   "metadata": {},
   "outputs": [],
   "source": [
    "# Your answer here\n",
    "\n",
    "# Time Complexity: (O(n.m)), where (n) is the maximum value in the input list nums and (m) is the number of elements \\\n",
    "# in nums (for the iteration).\n",
    "# Space Complexity: (O(n)), where n is the maximum value in the input list nums.\n",
    "# This means the function’s runtime scales linearly with the size of nums and the maximum value in nums, and it \\\n",
    "# uses space proportional to the maximum value in nums.\n"
   ]
  },
  {
   "cell_type": "markdown",
   "metadata": {},
   "source": [
    "\n",
    "-   Critique your partner's solution, including explanation, and if there is anything that should be adjusted.\n"
   ]
  },
  {
   "cell_type": "code",
   "execution_count": 6,
   "metadata": {},
   "outputs": [],
   "source": [
    "# Your answer here\n",
    "\n",
    "# The code works as expected but it could eleganctly be condensed with one-liner list comprehention for redability.\n",
    "# List comprehension provides a more concise way to create lists. It combines the loop and the conditional logic into \\\n",
    "# a single line of code.\n",
    "# Also, generally, List comprehension is more efficient and it can be faster as it is optimized internally by Python as \\\n",
    "# appending is slightly slower due to the repeated calls to the .append() method, especially in large loops.\n"
   ]
  },
  {
   "cell_type": "markdown",
   "metadata": {},
   "source": [
    "\n",
    "## Part 3:\n",
    "\n",
    "Please write a 200 word reflection documenting your process from assignment 1, and your presentation and review experience with your partner at the bottom of the Jupyter Notebook under a new heading \"Reflection.\" Again, export this Notebook as pdf.\n"
   ]
  },
  {
   "cell_type": "markdown",
   "metadata": {},
   "source": [
    "### Reflection"
   ]
  },
  {
   "cell_type": "code",
   "execution_count": 7,
   "metadata": {},
   "outputs": [],
   "source": [
    "# Your answer here\n",
    "\n",
    "# My reflection\n",
    "# The process was challenging, as I had to begin by interpreting the questions based on the hash selection. \\\n",
    "# This required me to grasp the foundations of the classes taught in order to start coding the correct algorithm \\\n",
    "# for the given logic and input examples. The most challenging part involved some trial and error, which helped me \\\n",
    "# identify necessary function adjustments, such as using `set()` to keep values unique. This led to checking seen the \\\n",
    "# values to handle potential duplicates. For each node, the function checks if its value (`node.val`) is already in the \\\n",
    "# seen set. If it is, a duplicate has been found, and the function immediately returns this value. The path to leaves \\\n",
    "# problem was indeed more challenging once it requested an extra grasp of how to make to return all root to leaves in any \\\n",
    "# order. Regarding partner reflection and code readability, she missed using her first name to reach the correct assignment, \\\n",
    "# but I reviewed what she had done so far, including her code logic structure. The code is functioning with my own logic \\\n",
    "# replication, which helped restart the main code's idea in terms of algorithm and results for a linear time and space \\\n",
    "# complexity function.\n"
   ]
  },
  {
   "cell_type": "markdown",
   "metadata": {},
   "source": [
    "\n",
    "## Evaluation Criteria\n",
    "\n",
    "We are looking for the similar points as Assignment 1\n",
    "\n",
    "-   Problem is accurately stated\n",
    "\n",
    "-   New example is correct and easily understandable\n",
    "\n",
    "-   Correctness, time, and space complexity of the coding solution\n",
    "\n",
    "-   Clarity in explaining why the solution works, its time and space complexity\n",
    "\n",
    "-   Quality of critique of your partner's assignment, if necessary\n"
   ]
  },
  {
   "cell_type": "markdown",
   "metadata": {},
   "source": [
    "## Submission Information\n",
    "\n",
    "🚨 **Please review our [Assignment Submission Guide](https://github.com/UofT-DSI/onboarding/blob/main/onboarding_documents/submissions.md)** 🚨 for detailed instructions on how to format, branch, and submit your work. Following these guidelines is crucial for your submissions to be evaluated correctly.\n",
    "\n",
    "### Submission Parameters:\n",
    "* Submission Due Date: `HH:MM AM/PM - DD/MM/YYYY`\n",
    "* The branch name for your repo should be: `assignment-2`\n",
    "* What to submit for this assignment:\n",
    "    * This Jupyter Notebook (assignment_2.ipynb) should be populated and should be the only change in your pull request.\n",
    "* What the pull request link should look like for this assignment: `https://github.com/<your_github_username>/algorithms_and_data_structures/pull/<pr_id>`\n",
    "    * Open a private window in your browser. Copy and paste the link to your pull request into the address bar. Make sure you can see your pull request properly. This helps the technical facilitator and learning support staff review your submission easily.\n",
    "\n",
    "Checklist:\n",
    "- [X] Created a branch with the correct naming convention.\n",
    "- [X] Ensured that the repository is public.\n",
    "- [X] Reviewed the PR description guidelines and adhered to them.\n",
    "- [X] Verify that the link is accessible in a private browser window.\n",
    "\n",
    "If you encounter any difficulties or have questions, please don't hesitate to reach out to our team via our Slack at `#cohort-3-help`. Our Technical Facilitators and Learning Support staff are here to help you navigate any challenges.\n"
   ]
  }
 ],
 "metadata": {
  "kernelspec": {
   "display_name": "dsi_participant",
   "language": "python",
   "name": "python3"
  },
  "language_info": {
   "codemirror_mode": {
    "name": "ipython",
    "version": 3
   },
   "file_extension": ".py",
   "mimetype": "text/x-python",
   "name": "python",
   "nbconvert_exporter": "python",
   "pygments_lexer": "ipython3",
   "version": "3.9.19"
  }
 },
 "nbformat": 4,
 "nbformat_minor": 2
}
